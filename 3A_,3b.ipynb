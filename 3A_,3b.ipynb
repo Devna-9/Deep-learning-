{
  "nbformat": 4,
  "nbformat_minor": 0,
  "metadata": {
    "colab": {
      "provenance": []
    },
    "kernelspec": {
      "name": "python3",
      "display_name": "Python 3"
    },
    "language_info": {
      "name": "python"
    }
  },
  "cells": [
    {
      "cell_type": "code",
      "source": [
        "import pandas as pd\n",
        "import numpy as np\n",
        "import matplotlib.pyplot as plt\n",
        "from sklearn.preprocessing import MinMaxScaler\n",
        "from tensorflow.keras.models import Sequential\n",
        "from tensorflow.keras.layers import Dense, LSTM"
      ],
      "metadata": {
        "id": "pg7ji2UIMWnw"
      },
      "execution_count": null,
      "outputs": []
    },
    {
      "cell_type": "code",
      "source": [
        "#Load the dataset\n",
        "df = pd.read_csv('/content/500325.csv')  # Changed 'data' to 'df' to avoid overwriting\n",
        "df.head()\n"
      ],
      "metadata": {
        "colab": {
          "base_uri": "https://localhost:8080/",
          "height": 431
        },
        "id": "k7jAhG-rM-tl",
        "outputId": "ee901ba3-784d-4395-bbef-af7f2c709c9a"
      },
      "execution_count": null,
      "outputs": [
        {
          "output_type": "execute_result",
          "data": {
            "text/plain": [
              "               Date  Open Price  High Price  Low Price  Close Price  \\\n",
              "0  20-February-2025     1226.25     1239.40    1223.00      1233.05   \n",
              "1  19-February-2025     1222.75     1232.80    1217.60      1226.95   \n",
              "2  18-February-2025     1225.25     1229.95    1216.40      1224.95   \n",
              "3  17-February-2025     1215.75     1227.20    1205.15      1224.75   \n",
              "4  14-February-2025     1220.00     1224.30    1206.00      1216.95   \n",
              "\n",
              "           WAP  No.of Shares  No. of Trades  Total Turnover (Rs.)  \\\n",
              "0  1235.400020        206262           6415           254816079.0   \n",
              "1  1226.458523        110206           3823           135163088.0   \n",
              "2  1223.204760        206583           7437           252693309.0   \n",
              "3  1219.267096        207944           7688           253539277.0   \n",
              "4  1211.931885        358010          10146           433883734.0   \n",
              "\n",
              "   Deliverable Quantity  % Deli. Qty to Traded Qty  Spread High-Low  \\\n",
              "0              134142.0                      65.03            16.40   \n",
              "1               41958.0                      38.07            15.20   \n",
              "2              103728.0                      50.21            13.55   \n",
              "3               95627.0                      45.99            22.05   \n",
              "4              254865.0                      71.19            18.30   \n",
              "\n",
              "   Spread Close-Open  \n",
              "0               6.80  \n",
              "1               4.20  \n",
              "2              -0.30  \n",
              "3               9.00  \n",
              "4              -3.05  "
            ],
            "text/html": [
              "\n",
              "  <div id=\"df-1f5e7cb5-2167-40c1-9b99-60343bdb515f\" class=\"colab-df-container\">\n",
              "    <div>\n",
              "<style scoped>\n",
              "    .dataframe tbody tr th:only-of-type {\n",
              "        vertical-align: middle;\n",
              "    }\n",
              "\n",
              "    .dataframe tbody tr th {\n",
              "        vertical-align: top;\n",
              "    }\n",
              "\n",
              "    .dataframe thead th {\n",
              "        text-align: right;\n",
              "    }\n",
              "</style>\n",
              "<table border=\"1\" class=\"dataframe\">\n",
              "  <thead>\n",
              "    <tr style=\"text-align: right;\">\n",
              "      <th></th>\n",
              "      <th>Date</th>\n",
              "      <th>Open Price</th>\n",
              "      <th>High Price</th>\n",
              "      <th>Low Price</th>\n",
              "      <th>Close Price</th>\n",
              "      <th>WAP</th>\n",
              "      <th>No.of Shares</th>\n",
              "      <th>No. of Trades</th>\n",
              "      <th>Total Turnover (Rs.)</th>\n",
              "      <th>Deliverable Quantity</th>\n",
              "      <th>% Deli. Qty to Traded Qty</th>\n",
              "      <th>Spread High-Low</th>\n",
              "      <th>Spread Close-Open</th>\n",
              "    </tr>\n",
              "  </thead>\n",
              "  <tbody>\n",
              "    <tr>\n",
              "      <th>0</th>\n",
              "      <td>20-February-2025</td>\n",
              "      <td>1226.25</td>\n",
              "      <td>1239.40</td>\n",
              "      <td>1223.00</td>\n",
              "      <td>1233.05</td>\n",
              "      <td>1235.400020</td>\n",
              "      <td>206262</td>\n",
              "      <td>6415</td>\n",
              "      <td>254816079.0</td>\n",
              "      <td>134142.0</td>\n",
              "      <td>65.03</td>\n",
              "      <td>16.40</td>\n",
              "      <td>6.80</td>\n",
              "    </tr>\n",
              "    <tr>\n",
              "      <th>1</th>\n",
              "      <td>19-February-2025</td>\n",
              "      <td>1222.75</td>\n",
              "      <td>1232.80</td>\n",
              "      <td>1217.60</td>\n",
              "      <td>1226.95</td>\n",
              "      <td>1226.458523</td>\n",
              "      <td>110206</td>\n",
              "      <td>3823</td>\n",
              "      <td>135163088.0</td>\n",
              "      <td>41958.0</td>\n",
              "      <td>38.07</td>\n",
              "      <td>15.20</td>\n",
              "      <td>4.20</td>\n",
              "    </tr>\n",
              "    <tr>\n",
              "      <th>2</th>\n",
              "      <td>18-February-2025</td>\n",
              "      <td>1225.25</td>\n",
              "      <td>1229.95</td>\n",
              "      <td>1216.40</td>\n",
              "      <td>1224.95</td>\n",
              "      <td>1223.204760</td>\n",
              "      <td>206583</td>\n",
              "      <td>7437</td>\n",
              "      <td>252693309.0</td>\n",
              "      <td>103728.0</td>\n",
              "      <td>50.21</td>\n",
              "      <td>13.55</td>\n",
              "      <td>-0.30</td>\n",
              "    </tr>\n",
              "    <tr>\n",
              "      <th>3</th>\n",
              "      <td>17-February-2025</td>\n",
              "      <td>1215.75</td>\n",
              "      <td>1227.20</td>\n",
              "      <td>1205.15</td>\n",
              "      <td>1224.75</td>\n",
              "      <td>1219.267096</td>\n",
              "      <td>207944</td>\n",
              "      <td>7688</td>\n",
              "      <td>253539277.0</td>\n",
              "      <td>95627.0</td>\n",
              "      <td>45.99</td>\n",
              "      <td>22.05</td>\n",
              "      <td>9.00</td>\n",
              "    </tr>\n",
              "    <tr>\n",
              "      <th>4</th>\n",
              "      <td>14-February-2025</td>\n",
              "      <td>1220.00</td>\n",
              "      <td>1224.30</td>\n",
              "      <td>1206.00</td>\n",
              "      <td>1216.95</td>\n",
              "      <td>1211.931885</td>\n",
              "      <td>358010</td>\n",
              "      <td>10146</td>\n",
              "      <td>433883734.0</td>\n",
              "      <td>254865.0</td>\n",
              "      <td>71.19</td>\n",
              "      <td>18.30</td>\n",
              "      <td>-3.05</td>\n",
              "    </tr>\n",
              "  </tbody>\n",
              "</table>\n",
              "</div>\n",
              "    <div class=\"colab-df-buttons\">\n",
              "\n",
              "  <div class=\"colab-df-container\">\n",
              "    <button class=\"colab-df-convert\" onclick=\"convertToInteractive('df-1f5e7cb5-2167-40c1-9b99-60343bdb515f')\"\n",
              "            title=\"Convert this dataframe to an interactive table.\"\n",
              "            style=\"display:none;\">\n",
              "\n",
              "  <svg xmlns=\"http://www.w3.org/2000/svg\" height=\"24px\" viewBox=\"0 -960 960 960\">\n",
              "    <path d=\"M120-120v-720h720v720H120Zm60-500h600v-160H180v160Zm220 220h160v-160H400v160Zm0 220h160v-160H400v160ZM180-400h160v-160H180v160Zm440 0h160v-160H620v160ZM180-180h160v-160H180v160Zm440 0h160v-160H620v160Z\"/>\n",
              "  </svg>\n",
              "    </button>\n",
              "\n",
              "  <style>\n",
              "    .colab-df-container {\n",
              "      display:flex;\n",
              "      gap: 12px;\n",
              "    }\n",
              "\n",
              "    .colab-df-convert {\n",
              "      background-color: #E8F0FE;\n",
              "      border: none;\n",
              "      border-radius: 50%;\n",
              "      cursor: pointer;\n",
              "      display: none;\n",
              "      fill: #1967D2;\n",
              "      height: 32px;\n",
              "      padding: 0 0 0 0;\n",
              "      width: 32px;\n",
              "    }\n",
              "\n",
              "    .colab-df-convert:hover {\n",
              "      background-color: #E2EBFA;\n",
              "      box-shadow: 0px 1px 2px rgba(60, 64, 67, 0.3), 0px 1px 3px 1px rgba(60, 64, 67, 0.15);\n",
              "      fill: #174EA6;\n",
              "    }\n",
              "\n",
              "    .colab-df-buttons div {\n",
              "      margin-bottom: 4px;\n",
              "    }\n",
              "\n",
              "    [theme=dark] .colab-df-convert {\n",
              "      background-color: #3B4455;\n",
              "      fill: #D2E3FC;\n",
              "    }\n",
              "\n",
              "    [theme=dark] .colab-df-convert:hover {\n",
              "      background-color: #434B5C;\n",
              "      box-shadow: 0px 1px 3px 1px rgba(0, 0, 0, 0.15);\n",
              "      filter: drop-shadow(0px 1px 2px rgba(0, 0, 0, 0.3));\n",
              "      fill: #FFFFFF;\n",
              "    }\n",
              "  </style>\n",
              "\n",
              "    <script>\n",
              "      const buttonEl =\n",
              "        document.querySelector('#df-1f5e7cb5-2167-40c1-9b99-60343bdb515f button.colab-df-convert');\n",
              "      buttonEl.style.display =\n",
              "        google.colab.kernel.accessAllowed ? 'block' : 'none';\n",
              "\n",
              "      async function convertToInteractive(key) {\n",
              "        const element = document.querySelector('#df-1f5e7cb5-2167-40c1-9b99-60343bdb515f');\n",
              "        const dataTable =\n",
              "          await google.colab.kernel.invokeFunction('convertToInteractive',\n",
              "                                                    [key], {});\n",
              "        if (!dataTable) return;\n",
              "\n",
              "        const docLinkHtml = 'Like what you see? Visit the ' +\n",
              "          '<a target=\"_blank\" href=https://colab.research.google.com/notebooks/data_table.ipynb>data table notebook</a>'\n",
              "          + ' to learn more about interactive tables.';\n",
              "        element.innerHTML = '';\n",
              "        dataTable['output_type'] = 'display_data';\n",
              "        await google.colab.output.renderOutput(dataTable, element);\n",
              "        const docLink = document.createElement('div');\n",
              "        docLink.innerHTML = docLinkHtml;\n",
              "        element.appendChild(docLink);\n",
              "      }\n",
              "    </script>\n",
              "  </div>\n",
              "\n",
              "\n",
              "<div id=\"df-fca0de17-c11c-4f31-a13f-85b85c69e7f1\">\n",
              "  <button class=\"colab-df-quickchart\" onclick=\"quickchart('df-fca0de17-c11c-4f31-a13f-85b85c69e7f1')\"\n",
              "            title=\"Suggest charts\"\n",
              "            style=\"display:none;\">\n",
              "\n",
              "<svg xmlns=\"http://www.w3.org/2000/svg\" height=\"24px\"viewBox=\"0 0 24 24\"\n",
              "     width=\"24px\">\n",
              "    <g>\n",
              "        <path d=\"M19 3H5c-1.1 0-2 .9-2 2v14c0 1.1.9 2 2 2h14c1.1 0 2-.9 2-2V5c0-1.1-.9-2-2-2zM9 17H7v-7h2v7zm4 0h-2V7h2v10zm4 0h-2v-4h2v4z\"/>\n",
              "    </g>\n",
              "</svg>\n",
              "  </button>\n",
              "\n",
              "<style>\n",
              "  .colab-df-quickchart {\n",
              "      --bg-color: #E8F0FE;\n",
              "      --fill-color: #1967D2;\n",
              "      --hover-bg-color: #E2EBFA;\n",
              "      --hover-fill-color: #174EA6;\n",
              "      --disabled-fill-color: #AAA;\n",
              "      --disabled-bg-color: #DDD;\n",
              "  }\n",
              "\n",
              "  [theme=dark] .colab-df-quickchart {\n",
              "      --bg-color: #3B4455;\n",
              "      --fill-color: #D2E3FC;\n",
              "      --hover-bg-color: #434B5C;\n",
              "      --hover-fill-color: #FFFFFF;\n",
              "      --disabled-bg-color: #3B4455;\n",
              "      --disabled-fill-color: #666;\n",
              "  }\n",
              "\n",
              "  .colab-df-quickchart {\n",
              "    background-color: var(--bg-color);\n",
              "    border: none;\n",
              "    border-radius: 50%;\n",
              "    cursor: pointer;\n",
              "    display: none;\n",
              "    fill: var(--fill-color);\n",
              "    height: 32px;\n",
              "    padding: 0;\n",
              "    width: 32px;\n",
              "  }\n",
              "\n",
              "  .colab-df-quickchart:hover {\n",
              "    background-color: var(--hover-bg-color);\n",
              "    box-shadow: 0 1px 2px rgba(60, 64, 67, 0.3), 0 1px 3px 1px rgba(60, 64, 67, 0.15);\n",
              "    fill: var(--button-hover-fill-color);\n",
              "  }\n",
              "\n",
              "  .colab-df-quickchart-complete:disabled,\n",
              "  .colab-df-quickchart-complete:disabled:hover {\n",
              "    background-color: var(--disabled-bg-color);\n",
              "    fill: var(--disabled-fill-color);\n",
              "    box-shadow: none;\n",
              "  }\n",
              "\n",
              "  .colab-df-spinner {\n",
              "    border: 2px solid var(--fill-color);\n",
              "    border-color: transparent;\n",
              "    border-bottom-color: var(--fill-color);\n",
              "    animation:\n",
              "      spin 1s steps(1) infinite;\n",
              "  }\n",
              "\n",
              "  @keyframes spin {\n",
              "    0% {\n",
              "      border-color: transparent;\n",
              "      border-bottom-color: var(--fill-color);\n",
              "      border-left-color: var(--fill-color);\n",
              "    }\n",
              "    20% {\n",
              "      border-color: transparent;\n",
              "      border-left-color: var(--fill-color);\n",
              "      border-top-color: var(--fill-color);\n",
              "    }\n",
              "    30% {\n",
              "      border-color: transparent;\n",
              "      border-left-color: var(--fill-color);\n",
              "      border-top-color: var(--fill-color);\n",
              "      border-right-color: var(--fill-color);\n",
              "    }\n",
              "    40% {\n",
              "      border-color: transparent;\n",
              "      border-right-color: var(--fill-color);\n",
              "      border-top-color: var(--fill-color);\n",
              "    }\n",
              "    60% {\n",
              "      border-color: transparent;\n",
              "      border-right-color: var(--fill-color);\n",
              "    }\n",
              "    80% {\n",
              "      border-color: transparent;\n",
              "      border-right-color: var(--fill-color);\n",
              "      border-bottom-color: var(--fill-color);\n",
              "    }\n",
              "    90% {\n",
              "      border-color: transparent;\n",
              "      border-bottom-color: var(--fill-color);\n",
              "    }\n",
              "  }\n",
              "</style>\n",
              "\n",
              "  <script>\n",
              "    async function quickchart(key) {\n",
              "      const quickchartButtonEl =\n",
              "        document.querySelector('#' + key + ' button');\n",
              "      quickchartButtonEl.disabled = true;  // To prevent multiple clicks.\n",
              "      quickchartButtonEl.classList.add('colab-df-spinner');\n",
              "      try {\n",
              "        const charts = await google.colab.kernel.invokeFunction(\n",
              "            'suggestCharts', [key], {});\n",
              "      } catch (error) {\n",
              "        console.error('Error during call to suggestCharts:', error);\n",
              "      }\n",
              "      quickchartButtonEl.classList.remove('colab-df-spinner');\n",
              "      quickchartButtonEl.classList.add('colab-df-quickchart-complete');\n",
              "    }\n",
              "    (() => {\n",
              "      let quickchartButtonEl =\n",
              "        document.querySelector('#df-fca0de17-c11c-4f31-a13f-85b85c69e7f1 button');\n",
              "      quickchartButtonEl.style.display =\n",
              "        google.colab.kernel.accessAllowed ? 'block' : 'none';\n",
              "    })();\n",
              "  </script>\n",
              "</div>\n",
              "\n",
              "    </div>\n",
              "  </div>\n"
            ],
            "application/vnd.google.colaboratory.intrinsic+json": {
              "type": "dataframe",
              "variable_name": "df",
              "summary": "{\n  \"name\": \"df\",\n  \"rows\": 287,\n  \"fields\": [\n    {\n      \"column\": \"Date\",\n      \"properties\": {\n        \"dtype\": \"object\",\n        \"num_unique_values\": 287,\n        \"samples\": [\n          \"7-February-2025\",\n          \"14-February-2024\",\n          \"29-July-2024\"\n        ],\n        \"semantic_type\": \"\",\n        \"description\": \"\"\n      }\n    },\n    {\n      \"column\": \"Open Price\",\n      \"properties\": {\n        \"dtype\": \"number\",\n        \"std\": 751.940673156129,\n        \"min\": 1210.4,\n        \"max\": 3200.15,\n        \"num_unique_values\": 277,\n        \"samples\": [\n          1255.9,\n          2967.45,\n          2897.05\n        ],\n        \"semantic_type\": \"\",\n        \"description\": \"\"\n      }\n    },\n    {\n      \"column\": \"High Price\",\n      \"properties\": {\n        \"dtype\": \"number\",\n        \"std\": 759.0190317122414,\n        \"min\": 1219.05,\n        \"max\": 3217.9,\n        \"num_unique_values\": 275,\n        \"samples\": [\n          1269.4,\n          3054.0,\n          2840.75\n        ],\n        \"semantic_type\": \"\",\n        \"description\": \"\"\n      }\n    },\n    {\n      \"column\": \"Low Price\",\n      \"properties\": {\n        \"dtype\": \"number\",\n        \"std\": 745.8074443713341,\n        \"min\": 1193.65,\n        \"max\": 3171.0,\n        \"num_unique_values\": 278,\n        \"samples\": [\n          1236.15,\n          2981.35,\n          2785.0\n        ],\n        \"semantic_type\": \"\",\n        \"description\": \"\"\n      }\n    },\n    {\n      \"column\": \"Close Price\",\n      \"properties\": {\n        \"dtype\": \"number\",\n        \"std\": 752.1707883693848,\n        \"min\": 1206.0,\n        \"max\": 3202.1,\n        \"num_unique_values\": 284,\n        \"samples\": [\n          1266.85,\n          2962.6,\n          3202.1\n        ],\n        \"semantic_type\": \"\",\n        \"description\": \"\"\n      }\n    },\n    {\n      \"column\": \"WAP\",\n      \"properties\": {\n        \"dtype\": \"number\",\n        \"std\": 752.4961253017244,\n        \"min\": 1211.9318845842295,\n        \"max\": 3194.5311721478083,\n        \"num_unique_values\": 287,\n        \"samples\": [\n          1270.8718248868079,\n          2942.853080916329,\n          3037.6350960892355\n        ],\n        \"semantic_type\": \"\",\n        \"description\": \"\"\n      }\n    },\n    {\n      \"column\": \"No.of Shares\",\n      \"properties\": {\n        \"dtype\": \"number\",\n        \"std\": 420387,\n        \"min\": 9314,\n        \"max\": 3544881,\n        \"num_unique_values\": 287,\n        \"samples\": [\n          375026,\n          122707,\n          59528\n        ],\n        \"semantic_type\": \"\",\n        \"description\": \"\"\n      }\n    },\n    {\n      \"column\": \"No. of Trades\",\n      \"properties\": {\n        \"dtype\": \"number\",\n        \"std\": 14145,\n        \"min\": 2084,\n        \"max\": 86500,\n        \"num_unique_values\": 286,\n        \"samples\": [\n          11068,\n          25222,\n          9849\n        ],\n        \"semantic_type\": \"\",\n        \"description\": \"\"\n      }\n    },\n    {\n      \"column\": \"Total Turnover (Rs.)\",\n      \"properties\": {\n        \"dtype\": \"number\",\n        \"std\": 974744544.7755655,\n        \"min\": 26739002.0,\n        \"max\": 10110052693.0,\n        \"num_unique_values\": 287,\n        \"samples\": [\n          476609977.0,\n          361108673.0,\n          180824342.0\n        ],\n        \"semantic_type\": \"\",\n        \"description\": \"\"\n      }\n    },\n    {\n      \"column\": \"Deliverable Quantity\",\n      \"properties\": {\n        \"dtype\": \"number\",\n        \"std\": 311312.56163551944,\n        \"min\": 4592.0,\n        \"max\": 2994898.0,\n        \"num_unique_values\": 284,\n        \"samples\": [\n          203512.0,\n          245207.0,\n          65516.0\n        ],\n        \"semantic_type\": \"\",\n        \"description\": \"\"\n      }\n    },\n    {\n      \"column\": \"% Deli. Qty to Traded Qty\",\n      \"properties\": {\n        \"dtype\": \"number\",\n        \"std\": 16.55149144545077,\n        \"min\": 7.88,\n        \"max\": 96.92,\n        \"num_unique_values\": 279,\n        \"samples\": [\n          38.86,\n          71.07,\n          65.95\n        ],\n        \"semantic_type\": \"\",\n        \"description\": \"\"\n      }\n    },\n    {\n      \"column\": \"Spread High-Low\",\n      \"properties\": {\n        \"dtype\": \"number\",\n        \"std\": 28.878665094518876,\n        \"min\": 6.7,\n        \"max\": 288.8,\n        \"num_unique_values\": 273,\n        \"samples\": [\n          20.55,\n          40.7,\n          71.1\n        ],\n        \"semantic_type\": \"\",\n        \"description\": \"\"\n      }\n    },\n    {\n      \"column\": \"Spread Close-Open\",\n      \"properties\": {\n        \"dtype\": \"number\",\n        \"std\": 33.916347583117144,\n        \"min\": -214.35,\n        \"max\": 182.95,\n        \"num_unique_values\": 269,\n        \"samples\": [\n          -13.55,\n          -64.2,\n          4.65\n        ],\n        \"semantic_type\": \"\",\n        \"description\": \"\"\n      }\n    }\n  ]\n}"
            }
          },
          "metadata": {},
          "execution_count": 5
        }
      ]
    },
    {
      "cell_type": "code",
      "source": [
        "df[\"Date\"] = pd.to_datetime(df[\"Date\"],format=\"%d-%B-%Y\") # This line now operates on the original DataFrame\n",
        "df = df.sort_values(by=\"Date\")"
      ],
      "metadata": {
        "id": "rHOOa78JM-qM"
      },
      "execution_count": null,
      "outputs": []
    },
    {
      "cell_type": "code",
      "source": [
        "#Extract 'Close price' for training\n",
        "data = df[\"Close Price\"].values.reshape(-1,1) # Use 'df' here"
      ],
      "metadata": {
        "id": "EzgnbwsgM-nY"
      },
      "execution_count": null,
      "outputs": []
    },
    {
      "cell_type": "code",
      "source": [
        "data[0:10]\n",
        "\n"
      ],
      "metadata": {
        "colab": {
          "base_uri": "https://localhost:8080/"
        },
        "id": "pRzypg_eM-kd",
        "outputId": "52197bfe-a765-4109-f221-e6f4d73fac86"
      },
      "execution_count": null,
      "outputs": [
        {
          "output_type": "execute_result",
          "data": {
            "text/plain": [
              "array([[2589.85],\n",
              "       [2610.9 ],\n",
              "       [2582.95],\n",
              "       [2597.4 ],\n",
              "       [2606.75],\n",
              "       [2586.1 ],\n",
              "       [2580.6 ],\n",
              "       [2649.95],\n",
              "       [2718.4 ],\n",
              "       [2740.1 ]])"
            ]
          },
          "metadata": {},
          "execution_count": 8
        }
      ]
    },
    {
      "cell_type": "code",
      "source": [
        "#Normalize data using minmax scaler\n",
        "scaler = MinMaxScaler()\n",
        "data = scaler.fit_transform(data)"
      ],
      "metadata": {
        "id": "2yrixcjzM-h6"
      },
      "execution_count": null,
      "outputs": []
    },
    {
      "cell_type": "code",
      "source": [
        "#Function to create sequence for LSTM\n",
        "def create_sequences(data, seq_length, prediction_length):\n",
        "    X,y = [],[]\n",
        "\n",
        "    for i in range(len(data) - seq_length - prediction_length + 1):\n",
        "        X.append(data[i:i+seq_length])\n",
        "        y.append(data[i+seq_length:i+seq_length+prediction_length])\n",
        "\n",
        "    return np.array(X), np.array(y)"
      ],
      "metadata": {
        "id": "fd4mgW8mM-fD"
      },
      "execution_count": null,
      "outputs": []
    },
    {
      "cell_type": "code",
      "source": [
        "#Define sequence and prediction lengths\n",
        "seq_length = 10\n",
        "prediction_length = 7"
      ],
      "metadata": {
        "id": "lPu9YXR2NNRW"
      },
      "execution_count": null,
      "outputs": []
    },
    {
      "cell_type": "code",
      "source": [
        "#Create sequences\n",
        "X,y = create_sequences(data, seq_length, prediction_length)"
      ],
      "metadata": {
        "id": "jJGpqO-ONNN6"
      },
      "execution_count": null,
      "outputs": []
    },
    {
      "cell_type": "code",
      "source": [
        "\n",
        "#Split\n",
        "train_size = int(0.8*len(X))\n",
        "X_train, X_test = X[:train_size], X[train_size:]\n",
        "y_train, y_test = y[:train_size], y[train_size:]\n",
        "\n"
      ],
      "metadata": {
        "id": "Ysv4Ix52NNLk"
      },
      "execution_count": null,
      "outputs": []
    },
    {
      "cell_type": "code",
      "source": [
        "X_train.shape\n",
        "\n"
      ],
      "metadata": {
        "colab": {
          "base_uri": "https://localhost:8080/"
        },
        "id": "hqBgS4s3NNJY",
        "outputId": "f0c84c8e-a803-4de3-e3b3-cc6266610473"
      },
      "execution_count": null,
      "outputs": [
        {
          "output_type": "execute_result",
          "data": {
            "text/plain": [
              "(216, 10, 1)"
            ]
          },
          "metadata": {},
          "execution_count": 14
        }
      ]
    },
    {
      "cell_type": "code",
      "source": [
        "X_test.shape"
      ],
      "metadata": {
        "colab": {
          "base_uri": "https://localhost:8080/"
        },
        "id": "RRbUWmLaNNHE",
        "outputId": "74d7c266-f728-4b8a-97c0-7e619b1cf9dc"
      },
      "execution_count": null,
      "outputs": [
        {
          "output_type": "execute_result",
          "data": {
            "text/plain": [
              "(55, 10, 1)"
            ]
          },
          "metadata": {},
          "execution_count": 15
        }
      ]
    },
    {
      "cell_type": "code",
      "source": [
        "#Build LSTM model\n",
        "model = Sequential([\n",
        "  LSTM(50, activation=\"relu\", return_sequences=True , input_shape=(seq_length, 1)),\n",
        "  LSTM(50, activation=\"relu\"),\n",
        "  Dense(prediction_length)\n",
        "])\n"
      ],
      "metadata": {
        "colab": {
          "base_uri": "https://localhost:8080/"
        },
        "id": "I1gGokubNNEA",
        "outputId": "f975183e-5f8f-4686-e822-a2461340c809"
      },
      "execution_count": null,
      "outputs": [
        {
          "output_type": "stream",
          "name": "stderr",
          "text": [
            "/usr/local/lib/python3.11/dist-packages/keras/src/layers/rnn/rnn.py:200: UserWarning: Do not pass an `input_shape`/`input_dim` argument to a layer. When using Sequential models, prefer using an `Input(shape)` object as the first layer in the model instead.\n",
            "  super().__init__(**kwargs)\n"
          ]
        }
      ]
    },
    {
      "cell_type": "code",
      "source": [
        "#Compile model\n",
        "model.compile(optimizer=\"adam\", loss=\"mse\")\n",
        "\n",
        "#Train the model\n",
        "model.fit(X_train, y_train, epochs=20, batch_size=16, verbose=1)"
      ],
      "metadata": {
        "colab": {
          "base_uri": "https://localhost:8080/"
        },
        "id": "ZKRjB4-INaCc",
        "outputId": "4a92ee25-6276-4e19-e67a-520c7a2a942f"
      },
      "execution_count": null,
      "outputs": [
        {
          "output_type": "stream",
          "name": "stdout",
          "text": [
            "Epoch 1/20\n",
            "\u001b[1m14/14\u001b[0m \u001b[32m━━━━━━━━━━━━━━━━━━━━\u001b[0m\u001b[37m\u001b[0m \u001b[1m4s\u001b[0m 10ms/step - loss: 0.6160\n",
            "Epoch 2/20\n",
            "\u001b[1m14/14\u001b[0m \u001b[32m━━━━━━━━━━━━━━━━━━━━\u001b[0m\u001b[37m\u001b[0m \u001b[1m0s\u001b[0m 10ms/step - loss: 0.3490\n",
            "Epoch 3/20\n",
            "\u001b[1m14/14\u001b[0m \u001b[32m━━━━━━━━━━━━━━━━━━━━\u001b[0m\u001b[37m\u001b[0m \u001b[1m0s\u001b[0m 10ms/step - loss: 0.0612\n",
            "Epoch 4/20\n",
            "\u001b[1m14/14\u001b[0m \u001b[32m━━━━━━━━━━━━━━━━━━━━\u001b[0m\u001b[37m\u001b[0m \u001b[1m0s\u001b[0m 9ms/step - loss: 0.0348\n",
            "Epoch 5/20\n",
            "\u001b[1m14/14\u001b[0m \u001b[32m━━━━━━━━━━━━━━━━━━━━\u001b[0m\u001b[37m\u001b[0m \u001b[1m0s\u001b[0m 10ms/step - loss: 0.0214\n",
            "Epoch 6/20\n",
            "\u001b[1m14/14\u001b[0m \u001b[32m━━━━━━━━━━━━━━━━━━━━\u001b[0m\u001b[37m\u001b[0m \u001b[1m0s\u001b[0m 10ms/step - loss: 0.0195\n",
            "Epoch 7/20\n",
            "\u001b[1m14/14\u001b[0m \u001b[32m━━━━━━━━━━━━━━━━━━━━\u001b[0m\u001b[37m\u001b[0m \u001b[1m0s\u001b[0m 10ms/step - loss: 0.0211\n",
            "Epoch 8/20\n",
            "\u001b[1m14/14\u001b[0m \u001b[32m━━━━━━━━━━━━━━━━━━━━\u001b[0m\u001b[37m\u001b[0m \u001b[1m0s\u001b[0m 10ms/step - loss: 0.0157\n",
            "Epoch 9/20\n",
            "\u001b[1m14/14\u001b[0m \u001b[32m━━━━━━━━━━━━━━━━━━━━\u001b[0m\u001b[37m\u001b[0m \u001b[1m0s\u001b[0m 10ms/step - loss: 0.0204\n",
            "Epoch 10/20\n",
            "\u001b[1m14/14\u001b[0m \u001b[32m━━━━━━━━━━━━━━━━━━━━\u001b[0m\u001b[37m\u001b[0m \u001b[1m0s\u001b[0m 10ms/step - loss: 0.0178\n",
            "Epoch 11/20\n",
            "\u001b[1m14/14\u001b[0m \u001b[32m━━━━━━━━━━━━━━━━━━━━\u001b[0m\u001b[37m\u001b[0m \u001b[1m0s\u001b[0m 11ms/step - loss: 0.0127\n",
            "Epoch 12/20\n",
            "\u001b[1m14/14\u001b[0m \u001b[32m━━━━━━━━━━━━━━━━━━━━\u001b[0m\u001b[37m\u001b[0m \u001b[1m0s\u001b[0m 9ms/step - loss: 0.0129\n",
            "Epoch 13/20\n",
            "\u001b[1m14/14\u001b[0m \u001b[32m━━━━━━━━━━━━━━━━━━━━\u001b[0m\u001b[37m\u001b[0m \u001b[1m0s\u001b[0m 9ms/step - loss: 0.0098\n",
            "Epoch 14/20\n",
            "\u001b[1m14/14\u001b[0m \u001b[32m━━━━━━━━━━━━━━━━━━━━\u001b[0m\u001b[37m\u001b[0m \u001b[1m0s\u001b[0m 9ms/step - loss: 0.0125\n",
            "Epoch 15/20\n",
            "\u001b[1m14/14\u001b[0m \u001b[32m━━━━━━━━━━━━━━━━━━━━\u001b[0m\u001b[37m\u001b[0m \u001b[1m0s\u001b[0m 10ms/step - loss: 0.0160\n",
            "Epoch 16/20\n",
            "\u001b[1m14/14\u001b[0m \u001b[32m━━━━━━━━━━━━━━━━━━━━\u001b[0m\u001b[37m\u001b[0m \u001b[1m0s\u001b[0m 10ms/step - loss: 0.0113\n",
            "Epoch 17/20\n",
            "\u001b[1m14/14\u001b[0m \u001b[32m━━━━━━━━━━━━━━━━━━━━\u001b[0m\u001b[37m\u001b[0m \u001b[1m0s\u001b[0m 9ms/step - loss: 0.0119\n",
            "Epoch 18/20\n",
            "\u001b[1m14/14\u001b[0m \u001b[32m━━━━━━━━━━━━━━━━━━━━\u001b[0m\u001b[37m\u001b[0m \u001b[1m0s\u001b[0m 10ms/step - loss: 0.0152\n",
            "Epoch 19/20\n",
            "\u001b[1m14/14\u001b[0m \u001b[32m━━━━━━━━━━━━━━━━━━━━\u001b[0m\u001b[37m\u001b[0m \u001b[1m0s\u001b[0m 10ms/step - loss: 0.0158\n",
            "Epoch 20/20\n",
            "\u001b[1m14/14\u001b[0m \u001b[32m━━━━━━━━━━━━━━━━━━━━\u001b[0m\u001b[37m\u001b[0m \u001b[1m0s\u001b[0m 20ms/step - loss: 0.0112\n"
          ]
        },
        {
          "output_type": "execute_result",
          "data": {
            "text/plain": [
              "<keras.src.callbacks.history.History at 0x7b41c7656510>"
            ]
          },
          "metadata": {},
          "execution_count": 17
        }
      ]
    },
    {
      "cell_type": "code",
      "source": [
        "#Predict next 7 days using the latest sequence\n",
        "last_sequence = data[-seq_length:].reshape(1, seq_length, 1)\n",
        "predicted_scaled = model.predict(last_sequence)\n",
        "predicted = scaler.inverse_transform(predicted_scaled)"
      ],
      "metadata": {
        "colab": {
          "base_uri": "https://localhost:8080/"
        },
        "id": "Oo6tTCINNZ_n",
        "outputId": "9f7df1c5-5ac4-432c-a986-67c594d424de"
      },
      "execution_count": null,
      "outputs": [
        {
          "output_type": "stream",
          "name": "stdout",
          "text": [
            "\u001b[1m1/1\u001b[0m \u001b[32m━━━━━━━━━━━━━━━━━━━━\u001b[0m\u001b[37m\u001b[0m \u001b[1m1s\u001b[0m 728ms/step\n"
          ]
        }
      ]
    },
    {
      "cell_type": "code",
      "source": [
        "# Convert back to actual price values\n",
        "predicted_prices = scaler.inverse_transform(predicted_scaled.reshape(-1,1))"
      ],
      "metadata": {
        "id": "7IPVadlNNZ86"
      },
      "execution_count": null,
      "outputs": []
    },
    {
      "cell_type": "code",
      "source": [
        "# Generate future dates\n",
        "last_date = df[\"Date\"].iloc[-1] # Use 'df' to access the 'Date' column\n",
        "future_dates = pd.date_range(start=last_date + pd.Timedelta(days=1), periods=7)\n",
        "# Print the predictions\n",
        "prediction_df = pd.DataFrame({\"Date\": future_dates, \"Predicted Close Price\": predicted_prices.flatten()})\n",
        "print(\"\\nPredicted Stock Prices for the Next 7 Days:\\n\")\n",
        "print(prediction_df)"
      ],
      "metadata": {
        "colab": {
          "base_uri": "https://localhost:8080/"
        },
        "id": "AhWPMZudNZ6D",
        "outputId": "7caadc69-902d-47a2-d7e0-e14c7fbd6f86"
      },
      "execution_count": null,
      "outputs": [
        {
          "output_type": "stream",
          "name": "stdout",
          "text": [
            "\n",
            "Predicted Stock Prices for the Next 7 Days:\n",
            "\n",
            "        Date  Predicted Close Price\n",
            "0 2025-02-21            1306.907104\n",
            "1 2025-02-22            1327.333252\n",
            "2 2025-02-23            1261.198120\n",
            "3 2025-02-24            1295.534058\n",
            "4 2025-02-25            1288.346558\n",
            "5 2025-02-26            1318.998047\n",
            "6 2025-02-27            1311.134521\n"
          ]
        }
      ]
    },
    {
      "cell_type": "code",
      "source": [
        "# Plot actual vs predicted prices\n",
        "plt.figure(figsize=(12, 6))\n",
        "plt.plot(df[\"Date\"].iloc[-50:], df[\"Close Price\"].iloc[-50:], label=\"Actual Close Prices\", linestyle=\"dashed\") # Use 'df' here\n",
        "plt.plot(future_dates, predicted_prices, label=\"Predicted Close Prices\", marker=\"o\")\n",
        "plt.xlabel(\"Date\")\n",
        "plt.ylabel(\"Stock Price\")\n",
        "plt.xticks(rotation=45)\n",
        "plt.legend()\n",
        "plt.title(\"Reliance Stock Price Prediction (Next 7 Days)\")\n",
        "plt.show()"
      ],
      "metadata": {
        "colab": {
          "base_uri": "https://localhost:8080/",
          "height": 617
        },
        "id": "qc4RVdJiNkvW",
        "outputId": "0e4ff5c2-6983-4ec8-cf33-f0c0afa7398b"
      },
      "execution_count": null,
      "outputs": [
        {
          "output_type": "display_data",
          "data": {
            "text/plain": [
              "<Figure size 1200x600 with 1 Axes>"
            ],
            "image/png": "[encoded data removed]"
          },
          "metadata": {}
        }
      ]
    }
  ]
}