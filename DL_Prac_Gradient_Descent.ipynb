{
  "nbformat": 4,
  "nbformat_minor": 0,
  "metadata": {
    "colab": {
      "provenance": []
    },
    "kernelspec": {
      "name": "python3",
      "display_name": "Python 3"
    },
    "language_info": {
      "name": "python"
    }
  },
  "cells": [
    {
      "cell_type": "code",
      "execution_count": null,
      "metadata": {
        "id": "NzXCLv_dBWuL"
      },
      "outputs": [],
      "source": [
        "#matrix multiplication and finding eigenvalues and eigenvectors using tensor flow\n",
        "import tensorflow as tf\n",
        "\n",
        "#define the 2 matrices\n",
        "matrix_a = tf.constant([[1, 2], [3, 4]], dtype=tf.float32)\n",
        "matrix_b = tf.constant([[5, 6], [7, 8]], dtype=tf.float32)"
      ]
    },
    {
      "cell_type": "code",
      "source": [
        "print(matrix_a)\n",
        "print(matrix_b)"
      ],
      "metadata": {
        "colab": {
          "base_uri": "https://localhost:8080/"
        },
        "id": "0jyqqXQYCb3E",
        "outputId": "3a6a9467-d543-44b0-c9db-8a1fcb3017ef"
      },
      "execution_count": null,
      "outputs": [
        {
          "output_type": "stream",
          "name": "stdout",
          "text": [
            "tf.Tensor(\n",
            "[[1. 2.]\n",
            " [3. 4.]], shape=(2, 2), dtype=float32)\n",
            "tf.Tensor(\n",
            "[[5. 6.]\n",
            " [7. 8.]], shape=(2, 2), dtype=float32)\n"
          ]
        }
      ]
    },
    {
      "cell_type": "code",
      "source": [
        "#multiply the matrices\n",
        "result = tf.matmul(matrix_a, matrix_b)"
      ],
      "metadata": {
        "id": "vukpDbbyCK-D"
      },
      "execution_count": null,
      "outputs": []
    },
    {
      "cell_type": "code",
      "source": [
        "import numpy as np\n",
        "#diplay the result\n",
        "print(\"Multiplication of the matrices:\\n\",result.numpy())"
      ],
      "metadata": {
        "colab": {
          "base_uri": "https://localhost:8080/"
        },
        "id": "4xNqNEweCfvj",
        "outputId": "65534c7c-3898-4fdc-ec0b-3443cf31368d"
      },
      "execution_count": null,
      "outputs": [
        {
          "output_type": "stream",
          "name": "stdout",
          "text": [
            "Multiplication of the matrices:\n",
            " [[19. 22.]\n",
            " [43. 50.]]\n"
          ]
        }
      ]
    },
    {
      "cell_type": "code",
      "source": [
        "#define a square matrix\n",
        "matrix_a = tf.constant([[1, 2], [3, 4]], dtype=tf.float32)\n",
        "\n",
        "#compute the eigenvalues and eigenvectors\n",
        "eigenvalues, eigenvectors = tf.linalg.eigh(matrix_a)"
      ],
      "metadata": {
        "id": "xcF6ZYuMCumL"
      },
      "execution_count": null,
      "outputs": []
    },
    {
      "cell_type": "code",
      "source": [
        "print('Eigenvalues\\n',eigenvalues.numpy())\n",
        "print('Eigenvectors\\n',eigenvectors.numpy())"
      ],
      "metadata": {
        "colab": {
          "base_uri": "https://localhost:8080/"
        },
        "id": "ogynNxeJDkQU",
        "outputId": "b43784a6-2834-48a7-b91c-be444f0a14b5"
      },
      "execution_count": null,
      "outputs": [
        {
          "output_type": "stream",
          "name": "stdout",
          "text": [
            "Eigenvalues\n",
            " [-0.8541021  5.854102 ]\n",
            "Eigenvectors\n",
            " [[-0.85065085 -0.5257311 ]\n",
            " [ 0.5257311  -0.85065085]]\n"
          ]
        }
      ]
    },
    {
      "cell_type": "code",
      "source": [
        "#define a square matrix\n",
        "matrix_b = tf.constant([[5, 6], [7, 8]], dtype=tf.float32)\n",
        "\n",
        "#compute the eigenvalues and eigenvectors\n",
        "eigenvalues, eigenvectors = tf.linalg.eigh(matrix_b)"
      ],
      "metadata": {
        "id": "m_NSFWlGDn_S"
      },
      "execution_count": null,
      "outputs": []
    },
    {
      "cell_type": "code",
      "source": [
        "print('Eigenvalues\\n',eigenvalues.numpy())\n",
        "print('Eigenvectors\\n',eigenvectors.numpy())"
      ],
      "metadata": {
        "colab": {
          "base_uri": "https://localhost:8080/"
        },
        "id": "CkuaEj0eEAnb",
        "outputId": "a9c72f5b-add1-4332-cbf9-d8625ee45441"
      },
      "execution_count": null,
      "outputs": [
        {
          "output_type": "stream",
          "name": "stdout",
          "text": [
            "Eigenvalues\n",
            " [-0.6589107 13.658911 ]\n",
            "Eigenvectors\n",
            " [[-0.7776661  -0.62867755]\n",
            " [ 0.62867755 -0.7776661 ]]\n"
          ]
        }
      ]
    },
    {
      "cell_type": "code",
      "source": [
        "#solving XOR problem using deep feed forward network\n",
        "import tensorflow as tf\n",
        "import numpy as np\n",
        "from sklearn.model_selection import train_test_split"
      ],
      "metadata": {
        "id": "pSrgX9_TI9w4"
      },
      "execution_count": null,
      "outputs": []
    },
    {
      "cell_type": "code",
      "source": [
        "#input data for XOR\n",
        "x_data = np.array([[0, 0], [0, 1], [1, 0], [1, 1]], dtype=np.float32)\n",
        "\n",
        "#output labels for XOR\n",
        "y_data = np.array([[0], [1], [1], [0]], dtype=np.float32)"
      ],
      "metadata": {
        "id": "kykrlDlRED5L"
      },
      "execution_count": null,
      "outputs": []
    },
    {
      "cell_type": "code",
      "source": [
        "#create a sequential model\n",
        "model = tf.keras.Sequential([\n",
        "    tf.keras.layers.Dense(4, input_dim=2, activation='relu'),#hidden layer with 4 neurons\n",
        "    tf.keras.layers.Dense(1, activation='sigmoid')#output layer with 1 neuron\n",
        "])\n",
        "\n",
        "#compile the model\n",
        "model.compile(loss='binary_crossentropy', optimizer='adam', metrics=['accuracy'])"
      ],
      "metadata": {
        "id": "hq-rEhmzJ5xo"
      },
      "execution_count": null,
      "outputs": []
    },
    {
      "cell_type": "code",
      "source": [
        "#train the model\n",
        "history=model.fit(x_data, y_data, epochs=500, verbose=0)"
      ],
      "metadata": {
        "id": "xKP-L9GQK3WZ"
      },
      "execution_count": null,
      "outputs": []
    },
    {
      "cell_type": "code",
      "source": [
        "#print final loss and accuracy\n",
        "loss, accuracy = model.evaluate(x_data, y_data)\n",
        "print(f'Final loss: {loss:.4f}')\n",
        "print(f'Final accuracy: {accuracy:.4f}')"
      ],
      "metadata": {
        "colab": {
          "base_uri": "https://localhost:8080/"
        },
        "id": "MFKYh8-_OJEZ",
        "outputId": "9b621904-9717-4034-8f42-5e7c4fb3f760"
      },
      "execution_count": null,
      "outputs": [
        {
          "output_type": "stream",
          "name": "stdout",
          "text": [
            "\u001b[1m1/1\u001b[0m \u001b[32m━━━━━━━━━━━━━━━━━━━━\u001b[0m\u001b[37m\u001b[0m \u001b[1m0s\u001b[0m 147ms/step - accuracy: 1.0000 - loss: 0.4740\n",
            "Final loss: 0.4740\n",
            "Final accuracy: 1.0000\n"
          ]
        }
      ]
    },
    {
      "cell_type": "code",
      "source": [
        "#predict ooutputs\n",
        "predictions = model.predict(x_data)\n",
        "\n",
        "#display results\n",
        "print(\"Input:\\n\",x_data)\n",
        "print(\"Predicted Output:\\n\", predictions)\n",
        "print(\"Rounded Predictions:\\n\",np.round(predictions))"
      ],
      "metadata": {
        "colab": {
          "base_uri": "https://localhost:8080/"
        },
        "id": "UpTkWaB6LKeh",
        "outputId": "a1136ed4-fdca-4d25-a835-66fdb1e0fc58"
      },
      "execution_count": null,
      "outputs": [
        {
          "output_type": "stream",
          "name": "stdout",
          "text": [
            "\u001b[1m1/1\u001b[0m \u001b[32m━━━━━━━━━━━━━━━━━━━━\u001b[0m\u001b[37m\u001b[0m \u001b[1m0s\u001b[0m 46ms/step\n",
            "Input:\n",
            " [[0. 0.]\n",
            " [0. 1.]\n",
            " [1. 0.]\n",
            " [1. 1.]]\n",
            "Predicted Output:\n",
            " [[0.43735823]\n",
            " [0.711875  ]\n",
            " [0.56776726]\n",
            " [0.3395527 ]]\n",
            "Rounded Predictions:\n",
            " [[0.]\n",
            " [1.]\n",
            " [1.]\n",
            " [0.]]\n"
          ]
        }
      ]
    }
  ]
}